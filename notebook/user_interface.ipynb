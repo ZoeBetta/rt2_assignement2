{
 "cells": [
  {
   "cell_type": "markdown",
   "id": "4053a1c9",
   "metadata": {},
   "source": [
    "# User Interface\n",
    "Inside this node it is implemented the user interface that allows for deciding the linear and angular velocity of the robot, to start and stop the random position behaviour, to directly command the behaviour of the robot by forcing it to go straight, backwards, turning clock-wise or counterclock-wise. It also allows to show some informations about the state of the robot such as the linear and angular velocity (set and actual), the current position and orientation of the robot, the number of goal reached and cancelled, the time to reach each goal. "
   ]
  },
  {
   "cell_type": "markdown",
   "id": "0e457604",
   "metadata": {},
   "source": [
    "## How To Run the code\n",
    "First it is needed to have the simulation running. In one terminal go inside the workspace and write:\n",
    "- roslaunch rt2_assignment2 sim.launch\n",
    "\n",
    "In another terminal: go inside the rt2_assignment2/noteboook and run:\n",
    "- jupyter noteboook\n",
    "\n",
    "Once it opens inside the file user_interface run each block.\\\n",
    "It is recommended to run them in order since some declarations present in early blocks are needed to run other blocks."
   ]
  },
  {
   "cell_type": "markdown",
   "id": "be652d91",
   "metadata": {},
   "source": [
    "## Code"
   ]
  },
  {
   "cell_type": "markdown",
   "id": "6e5929ba",
   "metadata": {},
   "source": [
    "### Libraries\n",
    "This block is needed to import the needed libraries."
   ]
  },
  {
   "cell_type": "code",
   "execution_count": 1,
   "id": "2779ff28",
   "metadata": {},
   "outputs": [],
   "source": [
    "import rospy\n",
    "import time\n",
    "import jupyros as jr\n",
    "import matplotlib\n",
    "import ipywidgets as widgets\n",
    "import matplotlib.pyplot as plt\n",
    "import numpy as np\n",
    "import math\n",
    "import actionlib\n",
    "import actionlib.msg\n",
    "\n",
    "%matplotlib widget\n",
    "\n",
    "from matplotlib.animation import FuncAnimation\n",
    "from nav_msgs.msg import Odometry\n",
    "from matplotlib import animation, rc\n",
    "from std_msgs.msg import String, Float64, Bool, Float32\n",
    "from rt2_assignment2.srv import Command\n",
    "from ipywidgets import interact,interactive,fixed,interact_manual\n",
    "from geometry_msgs.msg import Twist"
   ]
  },
  {
   "cell_type": "markdown",
   "id": "7df97468",
   "metadata": {},
   "source": [
    "### Initialization\n",
    "This block is needed to inizialize the ros node, the server /user_interface and the publishers on the topics /vel and /cmd_vel"
   ]
  },
  {
   "cell_type": "code",
   "execution_count": 2,
   "id": "7790fed1",
   "metadata": {
    "scrolled": true
   },
   "outputs": [],
   "source": [
    "rospy.init_node('user_interface')\n",
    "ui_client=rospy.ServiceProxy('/user_interface', Command)\n",
    "pub_vel=rospy.Publisher('/vel', Twist, queue_size=1)\n",
    "pub_cmd=rospy.Publisher('/cmd_vel', Twist, queue_size=1)"
   ]
  },
  {
   "cell_type": "markdown",
   "id": "7305d780",
   "metadata": {},
   "source": [
    "### Global Variables\n",
    "In this block are declared all the variables needed in the code, they are divided in global variables needed to implement the robot behaviour and global variables needed to display informations"
   ]
  },
  {
   "cell_type": "code",
   "execution_count": 3,
   "id": "57f7b563",
   "metadata": {},
   "outputs": [],
   "source": [
    "# robot behaviour\n",
    "go_rand= True # wheater the robot is going random or not\n",
    "vel=Twist() # the value of linear and angular velocities\n",
    "cmd=Twist() # the command velocities I want to obtain\n",
    "# display information\n",
    "initial_time=time.time() # time at the beginning of the program\n",
    "VelLin_s=0 # linear velocity requested\n",
    "VelLin_a=0 # linear velocity actual\n",
    "VelAng_s=0 # angular velocity requested\n",
    "VelAng_a=0 # angular velocity actual\n",
    "timeNow=0 # current time\n",
    "time1=[]  # array to save the times\n",
    "vel1_1=[] # array to save the linear velocities requested \n",
    "vel1_2=[] # array to save the actual linear velocities\n",
    "vel2_1=[] # array to save the angular velocities requested\n",
    "vel2_2=[] # array to save the actual angular velocities\n",
    "x_data=[] # array to save the x coordinate of the robot\n",
    "y_data=[] # array to save the y coordinate of the robot\n",
    "stats = [0,0] #array to save the number of reached and cancelled goal\n",
    "reached=0 #number of reached goals\n",
    "cancelled=0 # number of cancelled goals\n",
    "time_to_reach=[] #array to save the times to reach a goal\n",
    "dx=0.0 #x direction of the orientation\n",
    "dy=1.0 #y direction of the orientation"
   ]
  },
  {
   "cell_type": "markdown",
   "id": "a4bbed26",
   "metadata": {},
   "source": [
    "### Functions for buttons\n",
    "In this block are defined all of the functions that are called when a buttons clicked or when the slider is moved."
   ]
  },
  {
   "cell_type": "code",
   "execution_count": 4,
   "id": "eafb7719",
   "metadata": {},
   "outputs": [],
   "source": [
    "# this function is called when the button start random behaviour is clicked\n",
    "def start_rand(b):\n",
    "    global go_rand\n",
    "    go_rand=True\n",
    "    # it sends 'start' as a request to the server\n",
    "    ui_client('start')\n",
    "    \n",
    "# this function is called when the button stop random behaviour is clicked    \n",
    "def stop_rand(b):\n",
    "    global go_rand\n",
    "    go_rand=False\n",
    "    # it sends 'stop' as a request to the server cancelling the goal\n",
    "    ui_client('stop')\n",
    "    \n",
    "# this function is called when the button to go straight ahead is clicked     \n",
    "def up(b):\n",
    "    global go_rand\n",
    "    global vel,cmd\n",
    "    # If the robot was moving towards a random goal \n",
    "    if go_rand:\n",
    "        go_rand=False\n",
    "        # it sends 'stop' as a request to the server cancelling the goal\n",
    "        ui_client('stop')\n",
    "    # all velocities are set to zero   \n",
    "    stop_cmd(1)\n",
    "    # I set the velocity I want\n",
    "    cmd.linear.x=vel.linear.x\n",
    "    # sleep 1 second\n",
    "    time.sleep(1)\n",
    "    #publish the velocity on the /cmd_vel topic\n",
    "    pub_cmd.publish(cmd)\n",
    "\n",
    "# this function is called when the button to go straight backwards is clicked     \n",
    "def down(b):\n",
    "    global go_rand,vel\n",
    "    # If the robot was moving towards a random goal \n",
    "    if go_rand:\n",
    "        go_rand=False\n",
    "        # it sends 'stop' as a request to the server cancelling the goal\n",
    "        ui_client('stop')\n",
    "    # all velocities are set to zero    \n",
    "    stop_cmd(1)\n",
    "    # I set the velocity I want\n",
    "    cmd.linear.x=-vel.linear.x\n",
    "    # sleep 1 second\n",
    "    time.sleep(1)\n",
    "    #publish the velocity on the /cmd_vel topic\n",
    "    pub_cmd.publish(cmd)\n",
    "    \n",
    "# this function is called when the button to turn left is clicked    \n",
    "def left(b):\n",
    "    global go_rand\n",
    "    # If the robot was moving towards a random goal \n",
    "    if go_rand:\n",
    "        go_rand=False\n",
    "        # it sends 'stop' as a request to the server cancelling the goal\n",
    "        ui_client('stop')\n",
    "    # all velocities are set to zero    \n",
    "    stop_cmd(1)\n",
    "    # I set the velocity I want\n",
    "    cmd.angular.z=-vel.angular.z\n",
    "    # sleep 1 second\n",
    "    time.sleep(1)\n",
    "    #publish the velocity on the /cmd_vel topic\n",
    "    pub_cmd.publish(cmd)\n",
    "    \n",
    "# this function is called when the button to turn right is clicked    \n",
    "def right(b):\n",
    "    global go_rand\n",
    "    # If the robot was moving towards a random goal \n",
    "    if go_rand:\n",
    "        go_rand=False\n",
    "        # it sends 'stop' as a request to the server cancelling the goal\n",
    "        ui_client('stop')\n",
    "    # all velocities are set to zero    \n",
    "    stop_cmd(1)\n",
    "    # I set the velocity I want\n",
    "    cmd.angular.z=vel.angular.z\n",
    "    # sleep 1 second\n",
    "    time.sleep(1)\n",
    "    #publish the velocity on the /cmd_vel topic\n",
    "    pub_cmd.publish(cmd)\n",
    "    \n",
    "# this function is called when the button to stop the manuall control is clicked \n",
    "def stop_cmd(b):\n",
    "    global vel\n",
    "    # sets all velocities to zero\n",
    "    cmd.linear.x=0\n",
    "    cmd.angular.z=0\n",
    "    #publish the velocity on the /cmd_vel topic\n",
    "    pub_cmd.publish(cmd)\n",
    "    \n",
    "# this function is called when the linear velocity slider is moved   \n",
    "def setvellin(x):\n",
    "    global vel\n",
    "    # set the linear velocity to the same value of the slider\n",
    "    vel.linear.x=x\n",
    "    #publish the velocity on the /vel topic\n",
    "    pub_vel.publish(vel)\n",
    "    return x\n",
    "\n",
    "# this function is called when the angular velocity slider is moved \n",
    "def setvelang(x):\n",
    "    global go_rand\n",
    "    global vel\n",
    "    # set the angular velocity to the same value of the slider\n",
    "    vel.angular.z=x\n",
    "    #publish the velocity on the /vel topic\n",
    "    pub_vel.publish(vel)\n",
    "    return x"
   ]
  },
  {
   "cell_type": "markdown",
   "id": "972c56b5",
   "metadata": {},
   "source": [
    "### Buttons style\n",
    "In this block I initialized all the buttons' style and properties"
   ]
  },
  {
   "cell_type": "code",
   "execution_count": 5,
   "id": "9011eaab",
   "metadata": {},
   "outputs": [],
   "source": [
    "# button to start the random goal behaviour\n",
    "b1=widgets.Button(\n",
    "                description='Start rand', \n",
    "                layout=widgets.Layout(widht='auto',grid_area='b1'),\n",
    "                style=widgets.ButtonStyle(button_color='green')   \n",
    "                )\n",
    "\n",
    "#button to stop the random goal behaviour\n",
    "b2 = widgets.Button(description='Stop rand',\n",
    "                    layout=widgets.Layout(width='auto', grid_area='b2'),\n",
    "                    style=widgets.ButtonStyle(button_color='red')\n",
    "                    )\n",
    "\n",
    "#button to go straight forward\n",
    "b3 = widgets.Button(description='up',\n",
    "                    layout=widgets.Layout(width='auto', grid_area='up'),\n",
    "                    style=widgets.ButtonStyle(button_color='yellow')\n",
    "                   )\n",
    "\n",
    "#button to go straight backwards\n",
    "b4 = widgets.Button(description='down',\n",
    "                    layout=widgets.Layout(width='auto', grid_area='down'),\n",
    "                    style=widgets.ButtonStyle(button_color='yellow')\n",
    "                   )\n",
    "\n",
    "#button to turn left\n",
    "b5= widgets.Button(description='left',\n",
    "                    layout=widgets.Layout(width='auto', grid_area='left'),\n",
    "                    style=widgets.ButtonStyle(button_color='yellow')\n",
    "                  )\n",
    "\n",
    "#button to turn right\n",
    "b6 = widgets.Button(description='right',\n",
    "                    layout=widgets.Layout(width='auto', grid_area='right'),\n",
    "                    style=widgets.ButtonStyle(button_color='yellow')\n",
    "                   )\n",
    "\n",
    "#button to stop manually moving the robot\n",
    "b7 = widgets.Button(description='Stop',\n",
    "                    layout=widgets.Layout(width='auto', grid_area='b7'),\n",
    "                    style=widgets.ButtonStyle(button_color='orange')\n",
    "                   )"
   ]
  },
  {
   "cell_type": "markdown",
   "id": "29d08587",
   "metadata": {},
   "source": [
    "### Buttons' Functions\n",
    "In this block I associate each button with its function declared above. The function is called when the button is clicked once."
   ]
  },
  {
   "cell_type": "code",
   "execution_count": 6,
   "id": "442d6577",
   "metadata": {},
   "outputs": [],
   "source": [
    "b1.on_click(start_rand)\n",
    "b2.on_click(stop_rand)\n",
    "b3.on_click(up)\n",
    "b4.on_click(down)\n",
    "b5.on_click(left)\n",
    "b6.on_click(right)\n",
    "b7.on_click(stop_cmd)"
   ]
  },
  {
   "cell_type": "markdown",
   "id": "153d34a7",
   "metadata": {},
   "source": [
    "### Subscribers\n",
    "In this block I initialize all of the subscribers needed to obtain the data to display in th graphs below. There are also functions needed to elaborate those data.\\\n",
    "Even though I have a subscriber for the command velocity I decided to add the requested velocities in the odom callback since If manually moving the robot the command velocity is called only once at the beginning, this would have caused the graph to not update at the same speed as the one for the actual velocities. I then save the value read from the /cmd_vel subscriber in a global variable and read them every time the odom callback is called.\\\n",
    "I set 500 as the maximum dimension of the arrays containing the time, the velocitis and the position.\\\n",
    "I haven't set a maximum dimension for the time to reach a goal since it would take a long time to reach big enough dimensions and also it would lose the purpose of understanding the statistics of it."
   ]
  },
  {
   "cell_type": "code",
   "execution_count": 7,
   "id": "0dc341e4",
   "metadata": {},
   "outputs": [],
   "source": [
    "# this function transforms an angle in the interval [-pi, pi]\n",
    "def normalize_angle(angle):\n",
    "    if(math.fabs(angle) > math.pi):\n",
    "        angle = angle - (2 * math.pi * angle) / (math.fabs(angle))\n",
    "    return angle\n",
    "\n",
    "#Convert a quaternion into euler angles (roll, pitch, yaw)\n",
    "def euler_from_quaternion(x, y, z, w):\n",
    "        #roll is rotation around x in radians (counterclockwise)\n",
    "        #pitch is rotation around y in radians (counterclockwise)\n",
    "        #yaw is rotation around z in radians (counterclockwise)\n",
    "        t0 = +2.0 * (w * x + y * z)\n",
    "        t1 = +1.0 - 2.0 * (x * x + y * y)\n",
    "        roll_x = math.atan2(t0, t1)\n",
    "     \n",
    "        t2 = +2.0 * (w * y - z * x)\n",
    "        t2 = +1.0 if t2 > +1.0 else t2\n",
    "        t2 = -1.0 if t2 < -1.0 else t2\n",
    "        pitch_y = math.asin(t2)\n",
    "     \n",
    "        t3 = +2.0 * (w * z + x * y)\n",
    "        t4 = +1.0 - 2.0 * (y * y + z * z)\n",
    "        yaw_z = math.atan2(t3, t4)\n",
    "     \n",
    "        return roll_x, pitch_y, yaw_z # in radians\n",
    "\n",
    "# called when new data are published on the topic /odom\n",
    "def odom_callback(msg):\n",
    "    global timeNow, vel1_1, vel2_1, vel1_2, vel2_2, time1,dx,dy\n",
    "    # retrieve how much time has passed between the init of the program\n",
    "    timeNow= time.time()-initial_time\n",
    "    # If I saved more than 500 data I delete the first one, for all arrays\n",
    "    #I want arrays of maxium 500 elements to have a faster program\n",
    "    if len(time1)>500:\n",
    "        time1.pop(0)\n",
    "        x_data.pop(0)\n",
    "        y_data.pop(0)\n",
    "        vel1_1.pop(0)\n",
    "        vel1_2.pop(0)\n",
    "        vel2_1.pop(0)\n",
    "        vel2_2.pop(0)\n",
    "    #add the new time \n",
    "    time1.append(timeNow)\n",
    "    # add the new x position\n",
    "    x_data.append(msg.pose.pose.position.x)\n",
    "    # add the new y position\n",
    "    y_data.append(msg.pose.pose.position.y)\n",
    "    # add the new linear velocity actual\n",
    "    vel1_2.append(msg.twist.twist.linear.x)\n",
    "    # add the new angular velocity actual\n",
    "    vel2_2.append(msg.twist.twist.angular.z)\n",
    "    # add the new requested linear velocity\n",
    "    vel1_1.append(VelLin_s)\n",
    "    # add the new requested angular velocity\n",
    "    vel2_1.append(VelAng_s)\n",
    "    # Reading the quaternion to obtain the orientation of the robot\n",
    "    quaternion = (\n",
    "        msg.pose.pose.orientation.x,\n",
    "        msg.pose.pose.orientation.y,\n",
    "        msg.pose.pose.orientation.z,\n",
    "        msg.pose.pose.orientation.w)\n",
    "    # converting in Euler angles\n",
    "    euler = euler_from_quaternion(quaternion[0],quaternion[1],quaternion[2],quaternion[3])\n",
    "    # obtaining the angle of rotation about the z axis, it's positive value is counterclock-wise\n",
    "    yaw_ = euler[2]\n",
    "    # normalizing the yaw angle\n",
    "    normalized_yaw=normalize_angle(yaw_)\n",
    "    #obtaining the x and y components of an array representing orientation\n",
    "    dx=math.cos(normalized_yaw)\n",
    "    dy=math.sin(normalized_yaw)\n",
    "    \n",
    "# called when new data are published on the topic /cmd_vel\n",
    "def vel_callback(msg):\n",
    "    global VelLin_s, VelAng_s\n",
    "    # saving the values of the requested velocities in global variables\n",
    "    VelLin_s=msg.linear.x\n",
    "    VelAng_s=msg.angular.z\n",
    "    \n",
    "# called when new data are published on the topic /reach\n",
    "def reach_callback(msg):\n",
    "    global reached,cancelled,stats\n",
    "    # If the message is True the goal was reached and I need to add 1 to the global variables reached\n",
    "    if msg.data:\n",
    "        reached+=1\n",
    "    # If the message is Flse I need to add 1 to the cancelled variable\n",
    "    else: \n",
    "        cancelled+=1\n",
    "    # updating the vector storing the data    \n",
    "    stats=[reached, cancelled]\n",
    "\n",
    "# called when new data are published on the topic /time   \n",
    "def time_callback(msg):\n",
    "    global time_to_reach\n",
    "    # I add the time to reach the goal to the vector storing those information\n",
    "    time_to_reach.append(msg.data)    \n",
    "\n",
    "# declaring all of the subscribers    \n",
    "vel_sub= rospy.Subscriber('/cmd_vel',Twist, vel_callback)    \n",
    "sub= rospy.Subscriber('/odom',Odometry, odom_callback)\n",
    "reach_sub= rospy.Subscriber('/reach',Bool, reach_callback) \n",
    "time_sub= rospy.Subscriber('/time',Float32, time_callback) "
   ]
  },
  {
   "cell_type": "markdown",
   "id": "602bf7cb",
   "metadata": {},
   "source": [
    "### Buttons and Sliders\n",
    "In this block I implemented the sliders and the buttons. I put the sliders on top and then under them a grid containing all of the needed buttons.\\\n",
    "The first slider on top is the one controlling the magnitude of the linear velocity. The slider below controls the magnitude of the angular velocity.\\\n",
    "The two buttons, the green and the red one, on the upper left corner starts and stop the random position behaviour.\\\n",
    "The yellow buttons on the bottom right corner manually controls the robot: the button Up moves the robot in a straight line forward, the button down moves the robot in a straight line backwards, the button right turns the robto clock-wise and the button left moves the robot counterclock-wise. The orange button stops the robot if it was moving manually, it has no effect on the random position behaviour other then briefly setting the velocities to zero."
   ]
  },
  {
   "cell_type": "code",
   "execution_count": 8,
   "id": "3620c7da",
   "metadata": {
    "scrolled": true
   },
   "outputs": [
    {
     "name": "stdout",
     "output_type": "stream",
     "text": [
      "Linear Velocity\n"
     ]
    },
    {
     "data": {
      "application/vnd.jupyter.widget-view+json": {
       "model_id": "534a885886cc472aa02b1ffcbde98256",
       "version_major": 2,
       "version_minor": 0
      },
      "text/plain": [
       "interactive(children=(FloatSlider(value=0.3, description='x', max=1.0, step=0.01), Output()), _dom_classes=('w…"
      ]
     },
     "metadata": {},
     "output_type": "display_data"
    },
    {
     "name": "stdout",
     "output_type": "stream",
     "text": [
      "Angular Velocity\n"
     ]
    },
    {
     "data": {
      "application/vnd.jupyter.widget-view+json": {
       "model_id": "b7b6e5050b6e46e2be86f9a512e58f3a",
       "version_major": 2,
       "version_minor": 0
      },
      "text/plain": [
       "interactive(children=(FloatSlider(value=0.3, description='x', max=1.0, step=0.01), Output()), _dom_classes=('w…"
      ]
     },
     "metadata": {},
     "output_type": "display_data"
    },
    {
     "data": {
      "application/vnd.jupyter.widget-view+json": {
       "model_id": "a0b517ada95b4c57b221b77b107b4efb",
       "version_major": 2,
       "version_minor": 0
      },
      "text/plain": [
       "GridBox(children=(Button(description='Start rand', layout=Layout(grid_area='b1'), style=ButtonStyle(button_col…"
      ]
     },
     "metadata": {},
     "output_type": "display_data"
    }
   ],
   "source": [
    "print(\"Linear Velocity\")\n",
    "# slider for the linear velocity\n",
    "interact(setvellin,\n",
    "        x=widgets.FloatSlider(min=0.0, max=1, step=0.01, value=0.3))\n",
    "print(\"Angular Velocity\")\n",
    "#slider for the angular velocity\n",
    "interact(setvelang,\n",
    "        x=widgets.FloatSlider(min=0.0, max=1, step=0.01, value=0.3))\n",
    "\n",
    "# box to set all of the buttons\n",
    "widgets.GridBox(children=[b1, b2, b3, b4, b5, b6, b7],\n",
    "                layout=widgets.Layout(width='80%',grid_template_rows='auto auto auto',\n",
    "                grid_template_columns='16% 16% 16% 16% 16% 16% ',\n",
    "                grid_template_areas='''\". . . b7  . .\"\"b1 b2 . . up . \"\" . .  . left down right \"''')\n",
    "               )"
   ]
  },
  {
   "cell_type": "markdown",
   "id": "e47c9278",
   "metadata": {},
   "source": [
    "### Velocities\n",
    "In the following two plots I have represented the linear and angular velocity both requested and real. In the first one I have the linear velocities and in the second one the angular velocities. On both plots in red the actual velocity and in green the requested velocity.\\\n",
    "We can notice than for the linear velocity the actual velocity is not really different from the requested one, we have a bit of delay in the actuation and we have some oscillations in the beginning but the values are similar. For the angular velocity though we notice that the sign is the opposite and also the magnitude is different, it is about half in absolute value. We can also notice a lot more oscillations and delays.\\\n",
    "The sign is the opposite because the /cmd_vel has as positive a clockwise-rotation whil odom has as positive a counterclock-wise rotation."
   ]
  },
  {
   "cell_type": "code",
   "execution_count": 9,
   "id": "535fdd2c",
   "metadata": {
    "scrolled": false
   },
   "outputs": [
    {
     "data": {
      "application/vnd.jupyter.widget-view+json": {
       "model_id": "2ff2b7e754ae4002a129a4835c3d15bb",
       "version_major": 2,
       "version_minor": 0
      },
      "text/plain": [
       "Canvas(toolbar=Toolbar(toolitems=[('Home', 'Reset original view', 'home', 'home'), ('Back', 'Back to previous …"
      ]
     },
     "metadata": {},
     "output_type": "display_data"
    },
    {
     "data": {
      "application/vnd.jupyter.widget-view+json": {
       "model_id": "1bb2820f627c4b72adfc2aa0e37c2491",
       "version_major": 2,
       "version_minor": 0
      },
      "text/plain": [
       "Canvas(toolbar=Toolbar(toolitems=[('Home', 'Reset original view', 'home', 'home'), ('Back', 'Back to previous …"
      ]
     },
     "metadata": {},
     "output_type": "display_data"
    }
   ],
   "source": [
    "# setting the first plot\n",
    "fig1,ax1=plt.subplots()\n",
    "ax1.set_ylim((-2,2))\n",
    "ax1.set_xlim((0,10))\n",
    "lobj2 =ax1.plot([],[],lw=2, color='red',label='linear velocity actual')[0]\n",
    "lobj1 =ax1.plot([],[], lw=2, color='green',label='linear velocity set')[0]\n",
    "line1,=ax1.plot([],[], lw=2)\n",
    "ax1.legend()\n",
    "ax1.set_title(\"Linear Velocity\")\n",
    "ax1.set_xlabel('time')\n",
    "lines1=[]\n",
    "lines1.append(lobj1)\n",
    "lines1.append(lobj2)\n",
    "\n",
    "# setting the fsecond plot\n",
    "fig2,ax2=plt.subplots()\n",
    "ax2.set_ylim((-2,2))\n",
    "ax2.set_xlim((0,10))\n",
    "lobj2 =ax2.plot([],[],lw=2, color='red',label='angular velocity actual')[0]\n",
    "lobj1 =ax2.plot([],[], lw=2, color='green',label='angular velocity set')[0]\n",
    "line2,=ax2.plot([],[], lw=2)\n",
    "ax2.legend()\n",
    "ax2.set_title(\"Angular Velocity\")\n",
    "ax2.set_xlabel('time')\n",
    "lines2=[]\n",
    "lines2.append(lobj1)\n",
    "lines2.append(lobj2)\n",
    "\n",
    "# function called to initialize the plot\n",
    "def init1():\n",
    "    line1.set_data([],[])\n",
    "\n",
    "# function called to initialize the plot    \n",
    "def init2():\n",
    "    line2.set_data([],[])\n",
    "\n",
    "# function called to update periodically the plot\n",
    "def animate1(i):\n",
    "    ax1.set_xlim((timeNow-5,timeNow+5))\n",
    "    xlist = [time1, time1]\n",
    "    ylist = [vel1_1, vel1_2]\n",
    "    #for index in range(0,1):\n",
    "    for lnum1,line1 in enumerate(lines1):\n",
    "        line1.set_data(xlist[lnum1], ylist[lnum1]) # set data for each line separately.\n",
    "    return (lines1)\n",
    "\n",
    "# function called to update periodically the plot\n",
    "def animate2(i):\n",
    "    ax2.set_xlim((timeNow-5,timeNow+5))\n",
    "    xlist = [time1, time1]\n",
    "    ylist = [vel2_1, vel2_2]\n",
    "    #for index in range(0,1):\n",
    "    for lnum2,line2 in enumerate(lines2):\n",
    "        line2.set_data(xlist[lnum2], ylist[lnum2]) # set data for each line separately.\n",
    "    return (lines2)\n",
    "\n",
    "ani1=animation.FuncAnimation(fig1, animate1, init_func=init1, frames=100, interval=100, blit=True)\n",
    "ani2=animation.FuncAnimation(fig2, animate2, init_func=init2, frames=100, interval=100, blit=True)\n"
   ]
  },
  {
   "cell_type": "markdown",
   "id": "c744ee65",
   "metadata": {},
   "source": [
    "### Reached and Cancelled\n",
    "In this graph I have two bars, the one on the left that represents the reached goals and the one on the right that represents the cancelled goals. "
   ]
  },
  {
   "cell_type": "code",
   "execution_count": 10,
   "id": "010dd1ca",
   "metadata": {},
   "outputs": [
    {
     "data": {
      "application/vnd.jupyter.widget-view+json": {
       "model_id": "0de60be8212b421da3c9c32c8182551e",
       "version_major": 2,
       "version_minor": 0
      },
      "text/plain": [
       "Canvas(toolbar=Toolbar(toolitems=[('Home', 'Reset original view', 'home', 'home'), ('Back', 'Back to previous …"
      ]
     },
     "metadata": {},
     "output_type": "display_data"
    }
   ],
   "source": [
    "# setting the figure properties\n",
    "fig3,ax3 = plt.subplots()\n",
    "legend = ['reached', 'cancelled']\n",
    "ax3.bar(legend,stats,color = 'r', width = 0.5)\n",
    "ax3.set_title(\"Reached and Cancelled goal\")\n",
    "\n",
    "# function called to initialize the plot\n",
    "def init3():\n",
    "    ax3.bar(legend,stats,color = 'r', width = 0.5)\n",
    "\n",
    "# function called to update periodically the plot\n",
    "def animate3(i):\n",
    "    global stats, ax3\n",
    "    ax3.bar(legend,stats,color = 'r', width = 0.5)\n",
    "    \n",
    "ani3=animation.FuncAnimation(fig3, animate3, init_func=init3, frames=100, interval=100, blit=True)\n"
   ]
  },
  {
   "cell_type": "markdown",
   "id": "693db62b",
   "metadata": {},
   "source": [
    "### Time\n",
    "This graph is an histogram, I have bars representing the time to reach the goal. On thex axis I have the time to reach a target while on the y axis I have the number of times it reached the goal in that time."
   ]
  },
  {
   "cell_type": "code",
   "execution_count": 11,
   "id": "990fa0e2",
   "metadata": {
    "scrolled": false
   },
   "outputs": [
    {
     "data": {
      "application/vnd.jupyter.widget-view+json": {
       "model_id": "e3ce43fc6e6949588eb6cb3a27120257",
       "version_major": 2,
       "version_minor": 0
      },
      "text/plain": [
       "Canvas(toolbar=Toolbar(toolitems=[('Home', 'Reset original view', 'home', 'home'), ('Back', 'Back to previous …"
      ]
     },
     "metadata": {},
     "output_type": "display_data"
    }
   ],
   "source": [
    "# setting the figure properties\n",
    "fig4,ax4= plt.subplots()\n",
    "ax4.hist(time_to_reach, 10, label='time to reach goal', color='red',lw=10)\n",
    "ax4.legend()\n",
    "ax4.set_title(\"Time to reach Goal\")\n",
    "ax4.set_xlabel('time (s)')\n",
    "\n",
    "# function called to initialize the plot\n",
    "def init4():\n",
    "    ax4.hist(time_to_reach, 10, label='time to reach goal', color='red',lw=10)\n",
    "\n",
    "# function called to update periodically the plot    \n",
    "def animate4(i):\n",
    "    global time_to_reach, ax4\n",
    "    ax4.hist(time_to_reach,10, color='red',lw=10)\n",
    "    \n",
    "ani4=animation.FuncAnimation(fig4, animate4,init_func=init4, frames=100, interval=100, blit=True)\n",
    "\n"
   ]
  },
  {
   "cell_type": "markdown",
   "id": "882f51db",
   "metadata": {},
   "source": [
    "### Position and Orientation\n",
    "In this block I have two figures: one to represent the robot position and one to represent the robot orientation. The first one represents the current robot position but also the past ones, we have a trajectory. Since it was decided to have arrays of maximum 500 elements we can see that the trajectory cancels itself after some time. If we wanted to save the entire trajectory we would have a very slow program, or we could decide to save points less frequently to have a smaller array, but this would create a less accurate trajectory.\\\n",
    "For the orientation plot I decided to represent the orientation as a single arrow. I implemented it on a new figure because in order to have only one arrow and not also the ones before I had to use the command ax6.clear that deletes everything. I could have cancelled the position and redrawn it each time but this would consist in a lot of delays and in the slowing down of the program."
   ]
  },
  {
   "cell_type": "code",
   "execution_count": 12,
   "id": "59db53d6",
   "metadata": {
    "scrolled": true
   },
   "outputs": [
    {
     "data": {
      "application/vnd.jupyter.widget-view+json": {
       "model_id": "1b85b98e1f654b0ba28cfcc757f5f541",
       "version_major": 2,
       "version_minor": 0
      },
      "text/plain": [
       "Canvas(toolbar=Toolbar(toolitems=[('Home', 'Reset original view', 'home', 'home'), ('Back', 'Back to previous …"
      ]
     },
     "metadata": {},
     "output_type": "display_data"
    },
    {
     "data": {
      "application/vnd.jupyter.widget-view+json": {
       "model_id": "621df921c9b44e569f86845b39f57c1b",
       "version_major": 2,
       "version_minor": 0
      },
      "text/plain": [
       "Canvas(toolbar=Toolbar(toolitems=[('Home', 'Reset original view', 'home', 'home'), ('Back', 'Back to previous …"
      ]
     },
     "metadata": {},
     "output_type": "display_data"
    }
   ],
   "source": [
    "# setting the figure properties for figure 5 and 6\n",
    "fig5,ax5=plt.subplots()\n",
    "fig6,ax6=plt.subplots()\n",
    "ax5.set_xlim((-10,10))\n",
    "ax5.set_ylim((-10,10))\n",
    "line5,=ax5.plot([],[], lw=2, color='red', label='position')\n",
    "ax5.legend()\n",
    "ax5.set_title(\"Position\")\n",
    "ax6.quiver(0,0,dx,dy,label='orientation')\n",
    "ax6.legend()\n",
    "ax6.set_title(\"Orientation\")\n",
    "\n",
    "# function called to initialize the plot\n",
    "def init5():\n",
    "    line5.set_data([],[])\n",
    "    \n",
    "# function called to initialize the plot\n",
    "def init6():\n",
    "    ax6.quiver(0,0,dx,dy,label='orientation')\n",
    "    \n",
    "# function called to update periodically the plot \n",
    "def animate5(i):\n",
    "    global x_data, y_data\n",
    "    line5.set_data(x_data, y_data)\n",
    "    return (line5,)\n",
    "\n",
    "# function called to update periodically the plot \n",
    "def animate6(i):\n",
    "    ax6.clear()\n",
    "    ax6.quiver(0,0,dx,dy,label='orientation')\n",
    "    ax6.legend()\n",
    "    ax6.set_title(\"Orientation\")\n",
    "    return (line5,)\n",
    "\n",
    "ani5=animation.FuncAnimation(fig5, animate5, init_func=init5, frames=100, interval=100, blit=True)\n",
    "ani6=animation.FuncAnimation(fig6, animate6, frames=1, interval=100, blit=True)"
   ]
  },
  {
   "cell_type": "markdown",
   "id": "bd552262",
   "metadata": {},
   "source": [
    "## Software Architectures\n",
    "This software is composed of 4 nodes: go_to_point, position_service, state_machine, user_interface. The first three nodes are documented in both Doxygen and Sphinx. \\\n",
    "The node go_to_point implements a server that receives the command from the state_machine node but also receives the desired velocities from subscribing to the topic /vel published by the user_interface node.\\\n",
    "The node position_service is a server that provides a random goal position and orientation. Its client is the state_machine node.\\\n",
    "The user_interface node publishes on the topic /vel and /cmd_vel and also sends request to the state_machine node to start the random position behaviour. It also receives back, from the state_machine node information to plot the graphs."
   ]
  },
  {
   "cell_type": "markdown",
   "id": "2044adb1",
   "metadata": {},
   "source": [
    "## How to improve\n",
    "I think that by finding a way to merge the plot of the position and the plot of the orientation the information might be clearer.\\\n",
    "I think that it might be useful to merge the two stop buttons (the stop random behaviour and the stop manual behaviour) in order to have a more clean interface.\\\n",
    "In the end I noticed that the user_interface and consequently the commands to the simulation slow down with the addition of the plots, a solution might be having two different nodes, one for the buttons to control the robot and one for displying the graphs in order to accellerate the transmission of the commands."
   ]
  },
  {
   "cell_type": "code",
   "execution_count": null,
   "id": "c066ce3f",
   "metadata": {},
   "outputs": [],
   "source": []
  }
 ],
 "metadata": {
  "kernelspec": {
   "display_name": "Python 3",
   "language": "python",
   "name": "python3"
  },
  "language_info": {
   "codemirror_mode": {
    "name": "ipython",
    "version": 3
   },
   "file_extension": ".py",
   "mimetype": "text/x-python",
   "name": "python",
   "nbconvert_exporter": "python",
   "pygments_lexer": "ipython3",
   "version": "3.6.9"
  }
 },
 "nbformat": 4,
 "nbformat_minor": 5
}
